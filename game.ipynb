{
  "nbformat": 4,
  "nbformat_minor": 0,
  "metadata": {
    "colab": {
      "name": "game.ipynb",
      "provenance": []
    },
    "kernelspec": {
      "name": "python3",
      "display_name": "Python 3"
    }
  },
  "cells": [
    {
      "cell_type": "code",
      "metadata": {
        "id": "fj0cNeJ9NHz3"
      },
      "source": [
        "import numpy as np\n",
        "print ('Загадано число от 1 до 100')\n",
        "\n",
        "def game_guess_number(number):\n",
        "    count = 0\n",
        "    low_bound = 1 # устанавливаем нижнюю границу\n",
        "    high_bound = 101 # устанавливаем верхнюю границу\n",
        "    predict = np.random.randint(1,101) # диапазон угадывания\n",
        "    \n",
        "    while predict != number: #цикл для угадывания в границах\n",
        "        count += 1\n",
        "        if number > predict:\n",
        "            low_bound = predict + 1\n",
        "        elif number < predict:\n",
        "            high_bound = predict - 1\n",
        "        predict = (low_bound + high_bound) // 2\n",
        "            \n",
        "    return(count)\n",
        "        \n",
        "def score_game(game_core):\n",
        "    '''Запускаем игру 1000 раз, чтобы узнать, как быстро игра угадывает число'''\n",
        "    count_ls = []\n",
        "    np.random.seed(1)  # фиксируем RANDOM SEED, чтобы ваш эксперимент был воспроизводим!\n",
        "    random_array = np.random.randint(1, 101, size=(1000))\n",
        "\n",
        "    for number in random_array:\n",
        "        count_ls.append(game_core(number))\n",
        "    score = int(np.mean(count_ls))\n",
        "    print(f\"Ваш алгоритм угадывает число в среднем за {score} попыток\")\n",
        "\n",
        "    return(score) # честно взятое из примера\n",
        "\n",
        "score_game(game_guess_number)"
      ],
      "execution_count": null,
      "outputs": []
    }
  ]
}